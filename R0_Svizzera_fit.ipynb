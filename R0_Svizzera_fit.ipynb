{
  "nbformat": 4,
  "nbformat_minor": 0,
  "metadata": {
    "colab": {
      "name": "R0_Svizzera_fit.ipynb",
      "provenance": [],
      "collapsed_sections": [],
      "include_colab_link": true
    },
    "kernelspec": {
      "display_name": "Python 3",
      "language": "python",
      "name": "python3"
    },
    "language_info": {
      "codemirror_mode": {
        "name": "ipython",
        "version": 3
      },
      "file_extension": ".py",
      "mimetype": "text/x-python",
      "name": "python",
      "nbconvert_exporter": "python",
      "pygments_lexer": "ipython3",
      "version": "3.7.1"
    }
  },
  "cells": [
    {
      "cell_type": "markdown",
      "metadata": {
        "id": "view-in-github",
        "colab_type": "text"
      },
      "source": [
        "<a href=\"https://colab.research.google.com/github/picazio/COVID19-Studies/blob/master/R0_Svizzera_fit.ipynb\" target=\"_parent\"><img src=\"https://colab.research.google.com/assets/colab-badge.svg\" alt=\"Open In Colab\"/></a>"
      ]
    },
    {
      "cell_type": "markdown",
      "metadata": {
        "colab_type": "text",
        "id": "lBFc3hj8Yewa"
      },
      "source": [
        "https://books.google.ch/books?hl=it&lr=&id=HT0--xXBguQC&oi=fnd&pg=PA27&dq=Anderson+R.M+May+R.M+Infectious+diseases+of+humans:+dynamics+and+control+1991+Oxford+University+Press+Oxford,+UK+&ots=IdodQMXOdl&sig=Q2B_WIEZF9aD5oUujKEkIzEvT_I&redir_esc=y#v=onepage&q&f=false\n",
        "\n",
        "Chapter 2"
      ]
    },
    {
      "cell_type": "markdown",
      "metadata": {
        "colab_type": "text",
        "id": "HdZ5nCBZPubu"
      },
      "source": [
        "General imports"
      ]
    },
    {
      "cell_type": "code",
      "metadata": {
        "colab_type": "code",
        "id": "078LsCzPla2g",
        "colab": {}
      },
      "source": [
        "import pandas as pd\n",
        "import numpy as np\n",
        "from datetime import datetime,timedelta\n",
        "from sklearn.metrics import mean_squared_error\n",
        "from scipy.optimize import curve_fit\n",
        "from scipy.optimize import fsolve\n",
        "import matplotlib.pyplot as plt\n",
        "%matplotlib inline\n"
      ],
      "execution_count": 0,
      "outputs": []
    },
    {
      "cell_type": "markdown",
      "metadata": {
        "id": "OgE0aGj1kg8B",
        "colab_type": "text"
      },
      "source": [
        "Epidemic shape function"
      ]
    },
    {
      "cell_type": "code",
      "metadata": {
        "id": "Y2ZHE9IDkg8B",
        "colab_type": "code",
        "colab": {}
      },
      "source": [
        "#function definition\n",
        "def epidemicshape(x,initInfected,Ntot,Vul,durationOfDisease,initR0) :\n",
        "    \n",
        "    b=((initR0*(float(Vul)/float(Ntot)))-1.)/durationOfDisease\n",
        "    infected=initInfected*np.exp(b*x)\n",
        "    \n",
        "    return infected "
      ],
      "execution_count": 0,
      "outputs": []
    },
    {
      "cell_type": "markdown",
      "metadata": {
        "id": "CoFbZlRYkg8E",
        "colab_type": "text"
      },
      "source": [
        "Region initial parameters"
      ]
    },
    {
      "cell_type": "code",
      "metadata": {
        "id": "2xagZoxIkg8F",
        "colab_type": "code",
        "colab": {}
      },
      "source": [
        "regione='Svizzera'\n",
        "\n",
        "end=365*30\n",
        "#end=26\n",
        "c=1100\n",
        "pred_x = list(range(0,end))\n",
        "\n",
        "initInfected=1.\n",
        "durationOfDisease=9.\n",
        "Ntot=8570000.\n",
        "Mortality=0.01\n",
        "\n",
        "error=0.02\n",
        "\n",
        "predshift=1\n",
        "lockdown_shift=predshift"
      ],
      "execution_count": 0,
      "outputs": []
    },
    {
      "cell_type": "markdown",
      "metadata": {
        "id": "JO2Wi0xEkg8H",
        "colab_type": "text"
      },
      "source": [
        "Definition of the full model function"
      ]
    },
    {
      "cell_type": "code",
      "metadata": {
        "id": "rYIjwQ7Nkg8I",
        "colab_type": "code",
        "colab": {}
      },
      "source": [
        "def epidemic(initInfected_,Ntot_,durationOfDisease_,initR0,firstR0,secondR0,firstDay,secondDay,gap,pred_x) :\n",
        "\n",
        "    vulnerables=Ntot_\n",
        "    initialVulnerables=Ntot_\n",
        "        \n",
        "    infecteds=[]\n",
        "    increment=[]\n",
        "    exponent=[]\n",
        "    effectiveR=[]\n",
        "       \n",
        "    for x in pred_x :\n",
        "        \n",
        "        r0fun=initR0\n",
        "        initInf=initInfected_\n",
        "        if x>firstDay :\n",
        "            initInf=infecteds[firstDay-gap]\n",
        "            r0fun=firstR0 \n",
        "            \n",
        "        if x>secondDay :\n",
        "            initInf=infecteds[secondDay-gap]\n",
        "            r0fun=secondR0\n",
        "       \n",
        "        infected=epidemicshape(x,initInf,Ntot_,vulnerables,durationOfDisease_,r0fun)\n",
        "        vulnerables=vulnerables-infected\n",
        "        infecteds.append((initialVulnerables-vulnerables))\n",
        "        increment.append(infected)\n",
        "        \n",
        "    return infecteds"
      ],
      "execution_count": 0,
      "outputs": []
    },
    {
      "cell_type": "markdown",
      "metadata": {
        "colab_type": "text",
        "id": "3bcXbh0Wndk5"
      },
      "source": [
        "Now let's try to implement the fit to the data using the model we just implemented\n"
      ]
    },
    {
      "cell_type": "code",
      "metadata": {
        "id": "c2L2lnJ0kg8K",
        "colab_type": "code",
        "colab": {
          "base_uri": "https://localhost:8080/",
          "height": 1000
        },
        "outputId": "9240f629-843a-466b-cab0-b6daf8578800"
      },
      "source": [
        "url = \"https://raw.githubusercontent.com/daenuprobst/covid19-cases-switzerland/master/covid19_fatalities_switzerland_openzh.csv\"\n",
        "df = pd.read_csv(url ,error_bad_lines=False)#, sep=',',error_bad_lines=False , engine='python')\n",
        "\n",
        "df.head(42)\n",
        "\n",
        "regioneSp='CH'\n",
        "#regione='Emilia Romagna'\n",
        "#dfSp=dfSp[dfSp['abbreviation_canton_and_fl']==regioneSp]\n",
        "df = df.loc[:,['Date',regioneSp]]\n",
        "df['deceduti']=df['CH']\n",
        "df=df[df['deceduti']>0]\n",
        "df['poisson_error']=df['deceduti'].apply(lambda x: np.sqrt(float(x)))\n",
        "\n",
        "FMT = '%Y-%m-%d'\n",
        "date = df['Date']\n",
        "print(datetime.strptime(\"2020-01-01\", FMT))\n",
        "#df['data'] = date.map(lambda x : (datetime.strptime(x, FMT) - datetime.strptime(\"2020-01-01 00:00:00\", FMT)).days  )\n",
        "df['Date'] = date.map(lambda x : (datetime.strptime(x, FMT) - datetime.strptime(\"2020-01-01\", FMT)).days  )\n",
        "\n",
        "#dfSp['Cumulative']=dfSp[regioneSp].cumsum()\n",
        "\n",
        "\n",
        "\n",
        "df.head(55)"
      ],
      "execution_count": 5,
      "outputs": [
        {
          "output_type": "stream",
          "text": [
            "2020-01-01 00:00:00\n"
          ],
          "name": "stdout"
        },
        {
          "output_type": "execute_result",
          "data": {
            "text/html": [
              "<div>\n",
              "<style scoped>\n",
              "    .dataframe tbody tr th:only-of-type {\n",
              "        vertical-align: middle;\n",
              "    }\n",
              "\n",
              "    .dataframe tbody tr th {\n",
              "        vertical-align: top;\n",
              "    }\n",
              "\n",
              "    .dataframe thead th {\n",
              "        text-align: right;\n",
              "    }\n",
              "</style>\n",
              "<table border=\"1\" class=\"dataframe\">\n",
              "  <thead>\n",
              "    <tr style=\"text-align: right;\">\n",
              "      <th></th>\n",
              "      <th>Date</th>\n",
              "      <th>CH</th>\n",
              "      <th>deceduti</th>\n",
              "      <th>poisson_error</th>\n",
              "    </tr>\n",
              "  </thead>\n",
              "  <tbody>\n",
              "    <tr>\n",
              "      <th>10</th>\n",
              "      <td>65</td>\n",
              "      <td>1.0</td>\n",
              "      <td>1.0</td>\n",
              "      <td>1.000000</td>\n",
              "    </tr>\n",
              "    <tr>\n",
              "      <th>11</th>\n",
              "      <td>66</td>\n",
              "      <td>1.0</td>\n",
              "      <td>1.0</td>\n",
              "      <td>1.000000</td>\n",
              "    </tr>\n",
              "    <tr>\n",
              "      <th>12</th>\n",
              "      <td>67</td>\n",
              "      <td>2.0</td>\n",
              "      <td>2.0</td>\n",
              "      <td>1.414214</td>\n",
              "    </tr>\n",
              "    <tr>\n",
              "      <th>13</th>\n",
              "      <td>68</td>\n",
              "      <td>2.0</td>\n",
              "      <td>2.0</td>\n",
              "      <td>1.414214</td>\n",
              "    </tr>\n",
              "    <tr>\n",
              "      <th>14</th>\n",
              "      <td>69</td>\n",
              "      <td>4.0</td>\n",
              "      <td>4.0</td>\n",
              "      <td>2.000000</td>\n",
              "    </tr>\n",
              "    <tr>\n",
              "      <th>15</th>\n",
              "      <td>70</td>\n",
              "      <td>7.0</td>\n",
              "      <td>7.0</td>\n",
              "      <td>2.645751</td>\n",
              "    </tr>\n",
              "    <tr>\n",
              "      <th>16</th>\n",
              "      <td>71</td>\n",
              "      <td>8.0</td>\n",
              "      <td>8.0</td>\n",
              "      <td>2.828427</td>\n",
              "    </tr>\n",
              "    <tr>\n",
              "      <th>17</th>\n",
              "      <td>72</td>\n",
              "      <td>8.0</td>\n",
              "      <td>8.0</td>\n",
              "      <td>2.828427</td>\n",
              "    </tr>\n",
              "    <tr>\n",
              "      <th>18</th>\n",
              "      <td>73</td>\n",
              "      <td>12.0</td>\n",
              "      <td>12.0</td>\n",
              "      <td>3.464102</td>\n",
              "    </tr>\n",
              "    <tr>\n",
              "      <th>19</th>\n",
              "      <td>74</td>\n",
              "      <td>19.0</td>\n",
              "      <td>19.0</td>\n",
              "      <td>4.358899</td>\n",
              "    </tr>\n",
              "    <tr>\n",
              "      <th>20</th>\n",
              "      <td>75</td>\n",
              "      <td>28.0</td>\n",
              "      <td>28.0</td>\n",
              "      <td>5.291503</td>\n",
              "    </tr>\n",
              "    <tr>\n",
              "      <th>21</th>\n",
              "      <td>76</td>\n",
              "      <td>35.0</td>\n",
              "      <td>35.0</td>\n",
              "      <td>5.916080</td>\n",
              "    </tr>\n",
              "    <tr>\n",
              "      <th>22</th>\n",
              "      <td>77</td>\n",
              "      <td>47.0</td>\n",
              "      <td>47.0</td>\n",
              "      <td>6.855655</td>\n",
              "    </tr>\n",
              "    <tr>\n",
              "      <th>23</th>\n",
              "      <td>78</td>\n",
              "      <td>53.0</td>\n",
              "      <td>53.0</td>\n",
              "      <td>7.280110</td>\n",
              "    </tr>\n",
              "    <tr>\n",
              "      <th>24</th>\n",
              "      <td>79</td>\n",
              "      <td>75.0</td>\n",
              "      <td>75.0</td>\n",
              "      <td>8.660254</td>\n",
              "    </tr>\n",
              "    <tr>\n",
              "      <th>25</th>\n",
              "      <td>80</td>\n",
              "      <td>91.0</td>\n",
              "      <td>91.0</td>\n",
              "      <td>9.539392</td>\n",
              "    </tr>\n",
              "    <tr>\n",
              "      <th>26</th>\n",
              "      <td>81</td>\n",
              "      <td>110.0</td>\n",
              "      <td>110.0</td>\n",
              "      <td>10.488088</td>\n",
              "    </tr>\n",
              "    <tr>\n",
              "      <th>27</th>\n",
              "      <td>82</td>\n",
              "      <td>137.0</td>\n",
              "      <td>137.0</td>\n",
              "      <td>11.704700</td>\n",
              "    </tr>\n",
              "    <tr>\n",
              "      <th>28</th>\n",
              "      <td>83</td>\n",
              "      <td>158.0</td>\n",
              "      <td>158.0</td>\n",
              "      <td>12.569805</td>\n",
              "    </tr>\n",
              "    <tr>\n",
              "      <th>29</th>\n",
              "      <td>84</td>\n",
              "      <td>190.0</td>\n",
              "      <td>190.0</td>\n",
              "      <td>13.784049</td>\n",
              "    </tr>\n",
              "    <tr>\n",
              "      <th>30</th>\n",
              "      <td>85</td>\n",
              "      <td>233.0</td>\n",
              "      <td>233.0</td>\n",
              "      <td>15.264338</td>\n",
              "    </tr>\n",
              "    <tr>\n",
              "      <th>31</th>\n",
              "      <td>86</td>\n",
              "      <td>267.0</td>\n",
              "      <td>267.0</td>\n",
              "      <td>16.340135</td>\n",
              "    </tr>\n",
              "    <tr>\n",
              "      <th>32</th>\n",
              "      <td>87</td>\n",
              "      <td>307.0</td>\n",
              "      <td>307.0</td>\n",
              "      <td>17.521415</td>\n",
              "    </tr>\n",
              "    <tr>\n",
              "      <th>33</th>\n",
              "      <td>88</td>\n",
              "      <td>343.0</td>\n",
              "      <td>343.0</td>\n",
              "      <td>18.520259</td>\n",
              "    </tr>\n",
              "    <tr>\n",
              "      <th>34</th>\n",
              "      <td>89</td>\n",
              "      <td>399.0</td>\n",
              "      <td>399.0</td>\n",
              "      <td>19.974984</td>\n",
              "    </tr>\n",
              "    <tr>\n",
              "      <th>35</th>\n",
              "      <td>90</td>\n",
              "      <td>470.0</td>\n",
              "      <td>470.0</td>\n",
              "      <td>21.679483</td>\n",
              "    </tr>\n",
              "    <tr>\n",
              "      <th>36</th>\n",
              "      <td>91</td>\n",
              "      <td>527.0</td>\n",
              "      <td>527.0</td>\n",
              "      <td>22.956481</td>\n",
              "    </tr>\n",
              "    <tr>\n",
              "      <th>37</th>\n",
              "      <td>92</td>\n",
              "      <td>580.0</td>\n",
              "      <td>580.0</td>\n",
              "      <td>24.083189</td>\n",
              "    </tr>\n",
              "    <tr>\n",
              "      <th>38</th>\n",
              "      <td>93</td>\n",
              "      <td>640.0</td>\n",
              "      <td>640.0</td>\n",
              "      <td>25.298221</td>\n",
              "    </tr>\n",
              "    <tr>\n",
              "      <th>39</th>\n",
              "      <td>94</td>\n",
              "      <td>712.0</td>\n",
              "      <td>712.0</td>\n",
              "      <td>26.683328</td>\n",
              "    </tr>\n",
              "    <tr>\n",
              "      <th>40</th>\n",
              "      <td>95</td>\n",
              "      <td>759.0</td>\n",
              "      <td>759.0</td>\n",
              "      <td>27.549955</td>\n",
              "    </tr>\n",
              "    <tr>\n",
              "      <th>41</th>\n",
              "      <td>96</td>\n",
              "      <td>813.0</td>\n",
              "      <td>813.0</td>\n",
              "      <td>28.513155</td>\n",
              "    </tr>\n",
              "    <tr>\n",
              "      <th>42</th>\n",
              "      <td>97</td>\n",
              "      <td>867.0</td>\n",
              "      <td>867.0</td>\n",
              "      <td>29.444864</td>\n",
              "    </tr>\n",
              "    <tr>\n",
              "      <th>43</th>\n",
              "      <td>98</td>\n",
              "      <td>933.0</td>\n",
              "      <td>933.0</td>\n",
              "      <td>30.545049</td>\n",
              "    </tr>\n",
              "    <tr>\n",
              "      <th>44</th>\n",
              "      <td>99</td>\n",
              "      <td>985.0</td>\n",
              "      <td>985.0</td>\n",
              "      <td>31.384710</td>\n",
              "    </tr>\n",
              "    <tr>\n",
              "      <th>45</th>\n",
              "      <td>100</td>\n",
              "      <td>1043.0</td>\n",
              "      <td>1043.0</td>\n",
              "      <td>32.295511</td>\n",
              "    </tr>\n",
              "    <tr>\n",
              "      <th>46</th>\n",
              "      <td>101</td>\n",
              "      <td>1084.0</td>\n",
              "      <td>1084.0</td>\n",
              "      <td>32.924155</td>\n",
              "    </tr>\n",
              "    <tr>\n",
              "      <th>47</th>\n",
              "      <td>102</td>\n",
              "      <td>1133.0</td>\n",
              "      <td>1133.0</td>\n",
              "      <td>33.660065</td>\n",
              "    </tr>\n",
              "    <tr>\n",
              "      <th>48</th>\n",
              "      <td>103</td>\n",
              "      <td>1164.0</td>\n",
              "      <td>1164.0</td>\n",
              "      <td>34.117444</td>\n",
              "    </tr>\n",
              "    <tr>\n",
              "      <th>49</th>\n",
              "      <td>104</td>\n",
              "      <td>1210.0</td>\n",
              "      <td>1210.0</td>\n",
              "      <td>34.785054</td>\n",
              "    </tr>\n",
              "    <tr>\n",
              "      <th>50</th>\n",
              "      <td>105</td>\n",
              "      <td>1262.0</td>\n",
              "      <td>1262.0</td>\n",
              "      <td>35.524639</td>\n",
              "    </tr>\n",
              "    <tr>\n",
              "      <th>51</th>\n",
              "      <td>106</td>\n",
              "      <td>1304.0</td>\n",
              "      <td>1304.0</td>\n",
              "      <td>36.110940</td>\n",
              "    </tr>\n",
              "    <tr>\n",
              "      <th>52</th>\n",
              "      <td>107</td>\n",
              "      <td>1347.0</td>\n",
              "      <td>1347.0</td>\n",
              "      <td>36.701499</td>\n",
              "    </tr>\n",
              "    <tr>\n",
              "      <th>53</th>\n",
              "      <td>108</td>\n",
              "      <td>1368.0</td>\n",
              "      <td>1368.0</td>\n",
              "      <td>36.986484</td>\n",
              "    </tr>\n",
              "    <tr>\n",
              "      <th>54</th>\n",
              "      <td>109</td>\n",
              "      <td>1370.0</td>\n",
              "      <td>1370.0</td>\n",
              "      <td>37.013511</td>\n",
              "    </tr>\n",
              "  </tbody>\n",
              "</table>\n",
              "</div>"
            ],
            "text/plain": [
              "    Date      CH  deceduti  poisson_error\n",
              "10    65     1.0       1.0       1.000000\n",
              "11    66     1.0       1.0       1.000000\n",
              "12    67     2.0       2.0       1.414214\n",
              "13    68     2.0       2.0       1.414214\n",
              "14    69     4.0       4.0       2.000000\n",
              "15    70     7.0       7.0       2.645751\n",
              "16    71     8.0       8.0       2.828427\n",
              "17    72     8.0       8.0       2.828427\n",
              "18    73    12.0      12.0       3.464102\n",
              "19    74    19.0      19.0       4.358899\n",
              "20    75    28.0      28.0       5.291503\n",
              "21    76    35.0      35.0       5.916080\n",
              "22    77    47.0      47.0       6.855655\n",
              "23    78    53.0      53.0       7.280110\n",
              "24    79    75.0      75.0       8.660254\n",
              "25    80    91.0      91.0       9.539392\n",
              "26    81   110.0     110.0      10.488088\n",
              "27    82   137.0     137.0      11.704700\n",
              "28    83   158.0     158.0      12.569805\n",
              "29    84   190.0     190.0      13.784049\n",
              "30    85   233.0     233.0      15.264338\n",
              "31    86   267.0     267.0      16.340135\n",
              "32    87   307.0     307.0      17.521415\n",
              "33    88   343.0     343.0      18.520259\n",
              "34    89   399.0     399.0      19.974984\n",
              "35    90   470.0     470.0      21.679483\n",
              "36    91   527.0     527.0      22.956481\n",
              "37    92   580.0     580.0      24.083189\n",
              "38    93   640.0     640.0      25.298221\n",
              "39    94   712.0     712.0      26.683328\n",
              "40    95   759.0     759.0      27.549955\n",
              "41    96   813.0     813.0      28.513155\n",
              "42    97   867.0     867.0      29.444864\n",
              "43    98   933.0     933.0      30.545049\n",
              "44    99   985.0     985.0      31.384710\n",
              "45   100  1043.0    1043.0      32.295511\n",
              "46   101  1084.0    1084.0      32.924155\n",
              "47   102  1133.0    1133.0      33.660065\n",
              "48   103  1164.0    1164.0      34.117444\n",
              "49   104  1210.0    1210.0      34.785054\n",
              "50   105  1262.0    1262.0      35.524639\n",
              "51   106  1304.0    1304.0      36.110940\n",
              "52   107  1347.0    1347.0      36.701499\n",
              "53   108  1368.0    1368.0      36.986484\n",
              "54   109  1370.0    1370.0      37.013511"
            ]
          },
          "metadata": {
            "tags": []
          },
          "execution_count": 5
        }
      ]
    },
    {
      "cell_type": "markdown",
      "metadata": {
        "id": "kNpXOOGYkg8N",
        "colab_type": "text"
      },
      "source": [
        "We need to define a function that can actually be fit to the data"
      ]
    },
    {
      "cell_type": "code",
      "metadata": {
        "id": "AtTJvwq7kg8O",
        "colab_type": "code",
        "colab": {}
      },
      "source": [
        "day=df.shape[0]\n",
        "pred_x = list(range(0,day))"
      ],
      "execution_count": 0,
      "outputs": []
    },
    {
      "cell_type": "markdown",
      "metadata": {
        "id": "uov0k8RCkg8S",
        "colab_type": "text"
      },
      "source": [
        "Actual fitting section"
      ]
    },
    {
      "cell_type": "code",
      "metadata": {
        "id": "1QthzjK4kg8T",
        "colab_type": "code",
        "colab": {
          "base_uri": "https://localhost:8080/",
          "height": 156
        },
        "outputId": "240f48e9-d542-4242-8946-fd1d5182bb42"
      },
      "source": [
        "#parameters ranges\n",
        "bestR0=2.5\n",
        "bestfirstR0=1.15\n",
        "bestsecondR0=0.65\n",
        "bestfirstDay=25\n",
        "bestsecondDay=35\n",
        "bestgap=14\n",
        "\n",
        "r0Steps=0.01\n",
        "\n",
        "#lists\n",
        "initR0s=list(np.arange(bestR0*(1-0.03),bestR0*(1+0.03),r0Steps*2))\n",
        "firstR0s=list(np.arange(bestfirstR0*(1-0.2),bestfirstR0*(1+0.2),r0Steps*2))\n",
        "secondR0s=list(np.arange(bestsecondR0*(1-0.2),bestsecondR0*(1+0.2),r0Steps*2))\n",
        "firstDays=list(np.arange(bestfirstDay-3,bestfirstDay+3,1))\n",
        "secondDays=list(np.arange(bestsecondDay-3,bestsecondDay+3,1))\n",
        "gaps=list(np.arange(bestgap-0,bestgap+1,1))\n",
        "nloops=len(initR0s)*len(firstR0s)*len(secondR0s)*len(firstDays)*len(secondDays)*len(gaps)\n",
        "print(nloops)\n",
        "print(initR0s)\n",
        "print(firstR0s)\n",
        "print(secondR0s)\n",
        "print(firstDays)\n",
        "print(secondDays)\n",
        "print(gaps)"
      ],
      "execution_count": 7,
      "outputs": [
        {
          "output_type": "stream",
          "text": [
            "86112\n",
            "[2.425, 2.445, 2.465, 2.485, 2.505, 2.525, 2.545, 2.565]\n",
            "[0.9199999999999999, 0.94, 0.96, 0.98, 1.0, 1.02, 1.04, 1.06, 1.08, 1.1, 1.12, 1.1400000000000001, 1.1600000000000001, 1.1800000000000002, 1.2000000000000002, 1.2200000000000002, 1.2400000000000002, 1.2600000000000002, 1.2800000000000002, 1.3000000000000003, 1.3200000000000003, 1.3400000000000003, 1.3600000000000003]\n",
            "[0.52, 0.54, 0.56, 0.5800000000000001, 0.6000000000000001, 0.6200000000000001, 0.6400000000000001, 0.6600000000000001, 0.6800000000000002, 0.7000000000000002, 0.7200000000000002, 0.7400000000000002, 0.7600000000000002]\n",
            "[22, 23, 24, 25, 26, 27]\n",
            "[32, 33, 34, 35, 36, 37]\n",
            "[14]\n"
          ],
          "name": "stdout"
        }
      ]
    },
    {
      "cell_type": "code",
      "metadata": {
        "id": "HKbkxI8wkg8V",
        "colab_type": "code",
        "colab": {}
      },
      "source": [
        "def testing(initInfected_,Ntot_,durationOfDisease_,pred_x, in_r0,fr_r0,sd_r0,fr_day,sd_day,Gap,df) :\n",
        "    #if (in_r0<0 or fr_r0<0 or sd_r0<0) :\n",
        "    #    return 10000,-1,0\n",
        "    #else :\n",
        "        inf=epidemic(initInfected_,Ntot_,durationOfDisease_,in_r0,fr_r0,sd_r0,fr_day,sd_day,Gap,pred_x)\n",
        "        df['infecteds']=inf[:]\n",
        "        df['scarti_w']=(df['deceduti']-df['infecteds'])*(df['deceduti']-df['infecteds'])/(df['poisson_error']+0.01)\n",
        "        df['scarti']=(df['infecteds']-df['deceduti'])/df['deceduti']\n",
        "        df['incrementi_dec']=df['deceduti'].diff()\n",
        "        df['incrementi_inf']=df['infecteds'].diff()\n",
        "        df['scarti_incrementi']=df['incrementi_inf']-df['incrementi_dec']\n",
        "        #result[df['scarti_w'].sum()]=[in_r0,fr_r0,sd_r0,fr_day,sd_day,Gap]\n",
        "    \n",
        "        #return df['scarti_w'].sum(),df['scarti'].sum(),df['scarti'].sum()/abs(df['scarti'].sum())\n",
        "        #return df['scarti_w'].sum(),(df['infecteds'].sum()-df['deceduti'].sum())/df['deceduti'].sum(),df['scarti'].sum()/abs(df['scarti'].sum())\n",
        "        #return df['scarti_w'].sum(),df['scarti_incrementi'].sum(),df['scarti'].sum()/abs(df['scarti'].sum())\n",
        "        return df['scarti_w'].sum()\n",
        "    \n",
        "    \n",
        "    \n",
        "    "
      ],
      "execution_count": 0,
      "outputs": []
    },
    {
      "cell_type": "markdown",
      "metadata": {
        "id": "vw_dRoeKkg8X",
        "colab_type": "text"
      },
      "source": [
        "Now the actual loop of loops"
      ]
    },
    {
      "cell_type": "code",
      "metadata": {
        "id": "q30XWvfckg8Y",
        "colab_type": "code",
        "colab": {
          "base_uri": "https://localhost:8080/",
          "height": 425
        },
        "outputId": "28023af3-421c-4064-e667-b7bc81fb959a"
      },
      "source": [
        "#results={}\n",
        "loop=0\n",
        "min=10000000000\n",
        "minPars=[]\n",
        "for in_r0 in initR0s :\n",
        "    for fr_r0 in firstR0s :\n",
        "        for sd_r0 in secondR0s :\n",
        "            for fr_day in firstDays :\n",
        "                for sd_day in secondDays :\n",
        "                    for Gap in gaps :\n",
        "                        #par,_=testing(initInfected,Ntot,durationOfDisease,pred_x, in_r0,fr_r0,sd_r0,fr_day,sd_day,Gap,df)\n",
        "                        par=testing(initInfected,Ntot,durationOfDisease,pred_x, in_r0,fr_r0,sd_r0,fr_day,sd_day,Gap,df)\n",
        "\n",
        "                        if par<min :\n",
        "                            min=par\n",
        "                            minPars=[in_r0,fr_r0,sd_r0,fr_day,sd_day,Gap]\n",
        "                            #print(min)\n",
        "                            #print(minPars)\n",
        "                        \n",
        "                        loop=loop+1\n",
        "                        if loop%10000==0 :\n",
        "                            print(loop)\n",
        "                            print(min)\n",
        "                            print(minPars)\n",
        "                        "
      ],
      "execution_count": 9,
      "outputs": [
        {
          "output_type": "stream",
          "text": [
            "10000\n",
            "4468.647159763321\n",
            "[2.425, 1.3200000000000003, 0.7600000000000002, 24, 32, 14]\n",
            "20000\n",
            "3860.5732610945392\n",
            "[2.445, 1.3000000000000003, 0.7000000000000002, 24, 33, 14]\n",
            "30000\n",
            "2924.11159397386\n",
            "[2.465, 1.1, 0.7200000000000002, 27, 33, 14]\n",
            "40000\n",
            "2053.04473600371\n",
            "[2.485, 1.06, 0.6600000000000001, 27, 34, 14]\n",
            "50000\n",
            "1423.4275032445557\n",
            "[2.505, 1.02, 0.5800000000000001, 27, 36, 14]\n",
            "60000\n",
            "1004.0597556853814\n",
            "[2.525, 1.1, 0.7400000000000002, 26, 32, 14]\n",
            "70000\n",
            "689.5801013424515\n",
            "[2.545, 1.06, 0.56, 26, 36, 14]\n",
            "80000\n",
            "681.2679397265887\n",
            "[2.565, 1.04, 0.6000000000000001, 26, 35, 14]\n"
          ],
          "name": "stdout"
        }
      ]
    },
    {
      "cell_type": "code",
      "metadata": {
        "id": "Amc-WaOGkg8a",
        "colab_type": "code",
        "colab": {
          "base_uri": "https://localhost:8080/",
          "height": 34
        },
        "outputId": "5c5773a8-0c22-4843-d693-afd75e2eaafe"
      },
      "source": [
        "print(minPars)"
      ],
      "execution_count": 10,
      "outputs": [
        {
          "output_type": "stream",
          "text": [
            "[2.565, 1.12, 0.6000000000000001, 25, 35, 14]\n"
          ],
          "name": "stdout"
        }
      ]
    },
    {
      "cell_type": "code",
      "metadata": {
        "id": "eej6hWGRkg8d",
        "colab_type": "code",
        "colab": {}
      },
      "source": [
        "#minPars=[2.55,1.18,0.78,26,35,14]\n",
        "def epidemic_incr(initInfected_,Ntot_,durationOfDisease_,initR0,firstR0,secondR0,firstDay,secondDay,gap,pred_x) :\n",
        "\n",
        "    vulnerables=Ntot_\n",
        "    initialVulnerables=Ntot_\n",
        "        \n",
        "    infecteds=[]\n",
        "    increment=[]\n",
        "    exponent=[]\n",
        "    effectiveR=[]\n",
        "       \n",
        "    for x in pred_x :\n",
        "        \n",
        "        r0fun=initR0\n",
        "        initInf=initInfected_\n",
        "        if x>firstDay :\n",
        "            initInf=infecteds[firstDay-gap]\n",
        "            r0fun=firstR0 \n",
        "            \n",
        "        if x>secondDay :\n",
        "            initInf=infecteds[secondDay-gap]\n",
        "            r0fun=secondR0\n",
        "       \n",
        "        infected=epidemicshape(x,initInf,Ntot_,vulnerables,durationOfDisease_,r0fun)\n",
        "        vulnerables=vulnerables-infected\n",
        "        infecteds.append((initialVulnerables-vulnerables))\n",
        "        increment.append(infected)\n",
        "        \n",
        "    return infecteds,increment"
      ],
      "execution_count": 0,
      "outputs": []
    },
    {
      "cell_type": "code",
      "metadata": {
        "id": "BQwr2dcNkg8f",
        "colab_type": "code",
        "colab": {}
      },
      "source": [
        "x = list(df.iloc[:,0]-65)\n",
        "y = list(df.iloc[:,1])\n",
        "yerror = list(df.iloc[:,1]*0.1)\n",
        "\n",
        "#print(x)\n",
        "#print(y)\n",
        "pred_x = list(range(0,400))\n",
        "\n",
        "shifted_pred=[]\n",
        "for pred in pred_x :\n",
        "    shifted_pred.append(pred)\n",
        "\n",
        "error=0.02    \n",
        "infec,increm=epidemic_incr(initInfected,Ntot,durationOfDisease,minPars[0],minPars[1],minPars[2],minPars[3],minPars[4],minPars[5],pred_x)\n",
        "infecUP,incremUP=epidemic_incr(initInfected,Ntot,durationOfDisease,minPars[0]*(1+error),minPars[1]*(1+error),minPars[2]*(1+error),minPars[3]+1,minPars[4]+1,minPars[5]+1,pred_x)\n",
        "infecDW,incremDW=epidemic_incr(initInfected,Ntot,durationOfDisease,minPars[0]*(1-error),minPars[1]*(1-error),minPars[2]*(1-error),minPars[3]-1,minPars[4]-1,minPars[5]-1,pred_x)"
      ],
      "execution_count": 0,
      "outputs": []
    },
    {
      "cell_type": "markdown",
      "metadata": {
        "id": "7PQ3Bv0Dkg8h",
        "colab_type": "text"
      },
      "source": [
        "Plotting"
      ]
    },
    {
      "cell_type": "code",
      "metadata": {
        "id": "2BttPdtVkg8j",
        "colab_type": "code",
        "colab": {
          "base_uri": "https://localhost:8080/",
          "height": 470
        },
        "outputId": "0ea25e5a-5a2b-481d-f7b9-243563be6a30"
      },
      "source": [
        "#pred_x = list(range(max(x),sol))\n",
        "plt.rcParams['figure.figsize'] = [12, 7]\n",
        "plt.rc('font', size=14)\n",
        "\n",
        "plt.axvline(10, 0, 1,label='16 Marzo - Inizio quarantena',linestyle=':', color='red')\n",
        "plt.errorbar(x,y,yerr=yerror,label=\"Dati reali con 10 % errore sistematico\",color=\"red\",fmt='o')\n",
        "\n",
        "errorUp=np.array(infecUP)\n",
        "errorDw=np.array(infecDW)\n",
        "yPred=np.array(infec)\n",
        "\n",
        "#plt.plot(shifted_pred,infecteds[2.50],label=\"R0 = 2.5 senza contenimento\",linestyle='--')\n",
        "#plt.plot(shifted_pred,infecteds[2.25],label=\"R0 $\\gtrapprox$ 1 - Zona di transizione dal 21-29 Marzo\",linestyle='--')\n",
        "plt.plot(shifted_pred,infec,label=\"Best fit\")\n",
        "plt.fill_between(shifted_pred, yPred-(yPred-errorDw), yPred+(errorUp-yPred),color=\"paleturquoise\",label=str(error*100)+\" % variazione sistematica\")\n",
        "#plt.axvline(27-14, 0, 1,label='8 Marzo - Inizio quarantena',linestyle=':', color='red')\n",
        "#plt.axvline(26, 0, 1,linestyle=':',color='orange')\n",
        "#plt.axvline(33, 0, 1,linestyle=':',color='orange')\n",
        "plt.axvline(minPars[3], 0, 1,linestyle=':',color='orange')\n",
        "plt.axvline(minPars[4], 0, 1,linestyle=':',color='orange')\n",
        "\n",
        "plt.legend()\n",
        "plt.title(\"Numero totale di vittime in funzione del giorno - \"+regione)\n",
        "plt.xlabel(\"Giorni dal 6 Marzo\")\n",
        "plt.ylabel(\"Vittime totali\")\n",
        "#plt.text(10, 3000, 'Grafico 4', fontdict=font)\n",
        "\n",
        "#plt.ylim(3000,8000)\n",
        "#plt.xlim(20,32)\n",
        "#plt.grid()\n",
        "plt.ylim(0,y[-1]*1.5)\n",
        "plt.xlim(0,70)\n",
        "#plt.yscale(\"log\")\n",
        "\n",
        "#plt.savefig('plots/R02p5_vs_realData_contenimento_'+regione+'.png')\n",
        "plt.show()\n"
      ],
      "execution_count": 14,
      "outputs": [
        {
          "output_type": "display_data",
          "data": {
            "image/png": "[encoded data removed]",
            "text/plain": [
              "<Figure size 864x504 with 1 Axes>"
            ]
          },
          "metadata": {
            "tags": [],
            "needs_background": "light"
          }
        }
      ]
    },
    {
      "cell_type": "code",
      "metadata": {
        "id": "l_82RG1Bkg8m",
        "colab_type": "code",
        "colab": {}
      },
      "source": [
        "limit=df.shape[0]\n",
        "df['infecteds']=infec[:limit]\n",
        "#print(df['infecteds'].pct_change())\n",
        "\n",
        "dfnew=df.loc[:,['Date','deceduti','infecteds']]\n",
        "dfnew['scarti']=dfnew['deceduti']-dfnew['infecteds']\n",
        "dfnew['scarti_perc']=(dfnew['deceduti']-dfnew['infecteds'])*100/dfnew['deceduti']\n",
        "dfnew['incrementi']=dfnew['deceduti'].diff()\n",
        "#dfnew.head(45)"
      ],
      "execution_count": 0,
      "outputs": []
    },
    {
      "cell_type": "markdown",
      "metadata": {
        "id": "u50beUJXkg8o",
        "colab_type": "text"
      },
      "source": [
        "Scarti percentuali"
      ]
    },
    {
      "cell_type": "code",
      "metadata": {
        "id": "Bfc7riBhkg8p",
        "colab_type": "code",
        "colab": {
          "base_uri": "https://localhost:8080/",
          "height": 470
        },
        "outputId": "715d6eeb-2fb1-44a1-a3ac-96908422c746"
      },
      "source": [
        "plt.rcParams['figure.figsize'] = [12, 7]\n",
        "plt.rc('font', size=14)\n",
        "\n",
        "plt.plot(dfnew['Date']-65,dfnew['scarti_perc'],label=\"Modello SIR - R0=2.50\"+\" senza contenimento\",linestyle='--')\n",
        "\n",
        "plt.legend()\n",
        "plt.title(\"Incremento percentuale di vittime in funzione del giorno - \"+regione)\n",
        "plt.xlabel(\"Giorni dal 25 Febbraio\")\n",
        "plt.ylabel(\"Dati / Fit [%]\")\n",
        "#plt.text(10, 3000, 'Grafico 4', fontdict=font)\n",
        "\n",
        "#plt.ylim(3000,8000)\n",
        "#plt.xlim(20,32)\n",
        "plt.grid()\n",
        "plt.ylim(-20,20)\n",
        "plt.xlim(0,70)\n",
        "\n",
        "#plt.savefig('R02p5_incrementipercentuali_up200_'+regione+'.png')\n",
        "plt.show()"
      ],
      "execution_count": 16,
      "outputs": [
        {
          "output_type": "display_data",
          "data": {
            "image/png": "[encoded data removed]",
            "text/plain": [
              "<Figure size 864x504 with 1 Axes>"
            ]
          },
          "metadata": {
            "tags": [],
            "needs_background": "light"
          }
        }
      ]
    },
    {
      "cell_type": "markdown",
      "metadata": {
        "id": "WAUM5NODkg8s",
        "colab_type": "text"
      },
      "source": [
        "Daily increase"
      ]
    },
    {
      "cell_type": "code",
      "metadata": {
        "scrolled": true,
        "id": "RlJHXx1-kg8s",
        "colab_type": "code",
        "colab": {
          "base_uri": "https://localhost:8080/",
          "height": 524
        },
        "outputId": "945b48fd-e15b-4719-f0d6-279e91e19e29"
      },
      "source": [
        "plt.rcParams['figure.figsize'] = [12, 7]\n",
        "plt.rc('font', size=14)\n",
        "\n",
        "xaxis=np.array(pred_x)\n",
        "\n",
        "errorUp=np.array(incremUP)\n",
        "errorDw=np.array(incremDW)\n",
        "yPred=np.array(increm)\n",
        "\n",
        "x = list(dfnew.iloc[:,0]-65)\n",
        "y = list(dfnew.iloc[:,5])\n",
        "yerror = list(np.sqrt(dfnew.iloc[:,5]))\n",
        "\n",
        "print(x)\n",
        "print(y)\n",
        "\n",
        "plt.axvline(10, 0, 1,label='16 Marzo - Inizio quarantena',linestyle=':', color='red')\n",
        "plt.errorbar(x,y,yerr=yerror,label=\"Dati reali con errore statistico\",color=\"red\",fmt='o')\n",
        "\n",
        "plt.plot(xaxis,increm,label=\"Best fit\")\n",
        "\n",
        "plt.fill_between(xaxis, yPred-(yPred-errorDw), yPred+(errorUp-yPred),color=\"paleturquoise\",label=str(error*100)+\" % errore sistematico\")\n",
        "plt.plot(x,list(dfnew.iloc[:,5].rolling(3).sum()/3.), label='Media mobile a 3 giorni')\n",
        "\n",
        "#for r0 in initR0 :\n",
        "#    if r0==2.25 :\n",
        "#            plt.plot(pred_x,increment[r0],label=\"R0=2.5 senza contenimento\")\n",
        "#    else :\n",
        "#            plt.plot(pred_x,increment[r0],label=\"Incremento R0=\"+str(r0)+\" con contenimento da giorno 30\")\n",
        "#plt.plot(pred_x,increment[1.00],label=\"Incremento R0=1.00\")\n",
        "\n",
        "#plt.plot(pred_x,increment,label=\"Incremento R0=2.5\",color=\"blue\")\n",
        "plt.legend()\n",
        "plt.title(\"Incremento vittime giornaliero in funzione del giorno - \"+regione)\n",
        "plt.xlabel(\"Giorni dal 6 Marzo\")\n",
        "plt.ylabel(\"Incremento Vittime Giornaliero\")\n",
        "#plt.ylim(0,2000)\n",
        "plt.axvline(minPars[3], 0, 1,linestyle=':',color='orange')\n",
        "plt.axvline(minPars[4], 0, 1,linestyle=':',color='orange')\n",
        "\n",
        "#plt.xlim(0,200)\n",
        "plt.ylim(0,150)\n",
        "plt.xlim(0,70)\n",
        "plt.grid()\n",
        "\n",
        "#plt.savefig('plots/IncrementoVittime_Vs_R0_contenimento_'+regione+'.png')\n",
        "\n",
        "#print(increment[2.5])\n",
        "\n",
        "plt.show()"
      ],
      "execution_count": 18,
      "outputs": [
        {
          "output_type": "stream",
          "text": [
            "[0, 1, 2, 3, 4, 5, 6, 7, 8, 9, 10, 11, 12, 13, 14, 15, 16, 17, 18, 19, 20, 21, 22, 23, 24, 25, 26, 27, 28, 29, 30, 31, 32, 33, 34, 35, 36, 37, 38, 39, 40, 41, 42, 43, 44]\n",
            "[nan, 0.0, 1.0, 0.0, 2.0, 3.0, 1.0, 0.0, 4.0, 7.0, 9.0, 7.0, 12.0, 6.0, 22.0, 16.0, 19.0, 27.0, 21.0, 32.0, 43.0, 34.0, 40.0, 36.0, 56.0, 71.0, 57.0, 53.0, 60.0, 72.0, 47.0, 54.0, 54.0, 66.0, 52.0, 58.0, 41.0, 49.0, 31.0, 46.0, 52.0, 42.0, 43.0, 21.0, 2.0]\n"
          ],
          "name": "stdout"
        },
        {
          "output_type": "display_data",
          "data": {
            "image/png": "[encoded data removed]",
            "text/plain": [
              "<Figure size 864x504 with 1 Axes>"
            ]
          },
          "metadata": {
            "tags": [],
            "needs_background": "light"
          }
        }
      ]
    },
    {
      "cell_type": "code",
      "metadata": {
        "id": "4IGpO8v0kg8v",
        "colab_type": "code",
        "colab": {}
      },
      "source": [
        ""
      ],
      "execution_count": 0,
      "outputs": []
    }
  ]
}